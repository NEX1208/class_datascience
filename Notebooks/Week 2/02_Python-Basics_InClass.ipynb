{
 "cells": [
  {
   "cell_type": "markdown",
   "id": "68a3e43d-8e67-40b3-ab02-b46eedc8d109",
   "metadata": {},
   "source": [
    "# Variables"
   ]
  },
  {
   "cell_type": "code",
   "execution_count": 3,
   "id": "70cadf06-5e5b-4b3a-b35b-a24e1bbff52a",
   "metadata": {},
   "outputs": [],
   "source": [
    "a = 5"
   ]
  },
  {
   "cell_type": "code",
   "execution_count": 4,
   "id": "dc0c0546-8ca6-4d99-a82a-1a5a187c5c32",
   "metadata": {},
   "outputs": [
    {
     "data": {
      "text/plain": [
       "5"
      ]
     },
     "execution_count": 4,
     "metadata": {},
     "output_type": "execute_result"
    }
   ],
   "source": [
    "a"
   ]
  },
  {
   "cell_type": "code",
   "execution_count": 5,
   "id": "2d8091f3-8537-4905-a332-0c2d121c816a",
   "metadata": {},
   "outputs": [
    {
     "data": {
      "text/plain": [
       "int"
      ]
     },
     "execution_count": 5,
     "metadata": {},
     "output_type": "execute_result"
    }
   ],
   "source": [
    "type(a)"
   ]
  },
  {
   "cell_type": "code",
   "execution_count": 6,
   "id": "828092d2-b13f-4a4b-b003-07f928cc51af",
   "metadata": {},
   "outputs": [],
   "source": [
    "A = 'case sensitive'"
   ]
  },
  {
   "cell_type": "code",
   "execution_count": 7,
   "id": "86136aca-d998-47ef-b71c-ab1845460af9",
   "metadata": {},
   "outputs": [
    {
     "data": {
      "text/plain": [
       "5"
      ]
     },
     "execution_count": 7,
     "metadata": {},
     "output_type": "execute_result"
    }
   ],
   "source": [
    "a"
   ]
  },
  {
   "cell_type": "markdown",
   "id": "37bb5f51-02c6-4503-baad-d1009fb4f0eb",
   "metadata": {},
   "source": [
    "We should use names of variable that we can understand and simple with no space but \"_\" instead"
   ]
  },
  {
   "cell_type": "code",
   "execution_count": 10,
   "id": "5f6e925f-40fd-4781-875c-11befa2d2861",
   "metadata": {},
   "outputs": [],
   "source": [
    "int_var = 4 # This is an integer"
   ]
  },
  {
   "cell_type": "markdown",
   "id": "1a02c253-6c0c-4c41-929c-58fd4e837fec",
   "metadata": {},
   "source": [
    "# Operations"
   ]
  },
  {
   "cell_type": "code",
   "execution_count": 11,
   "id": "4dfbe748-bd8f-42d6-98fd-aa3808be5243",
   "metadata": {},
   "outputs": [
    {
     "data": {
      "text/plain": [
       "10"
      ]
     },
     "execution_count": 11,
     "metadata": {},
     "output_type": "execute_result"
    }
   ],
   "source": [
    "3+7"
   ]
  },
  {
   "cell_type": "code",
   "execution_count": 13,
   "id": "1589e4e3-d067-426b-932c-e8375db7e43a",
   "metadata": {},
   "outputs": [
    {
     "data": {
      "text/plain": [
       "12"
      ]
     },
     "execution_count": 13,
     "metadata": {},
     "output_type": "execute_result"
    }
   ],
   "source": [
    "a+7"
   ]
  },
  {
   "cell_type": "code",
   "execution_count": 18,
   "id": "1de8b4a9-dea3-4fae-987b-b50d07ef34d4",
   "metadata": {},
   "outputs": [
    {
     "data": {
      "text/plain": [
       "4"
      ]
     },
     "execution_count": 18,
     "metadata": {},
     "output_type": "execute_result"
    }
   ],
   "source": [
    "74%7 # reste de la division"
   ]
  },
  {
   "cell_type": "code",
   "execution_count": 15,
   "id": "0bee38a7-035e-466a-8cb2-81cebeb308bf",
   "metadata": {},
   "outputs": [
    {
     "data": {
      "text/plain": [
       "0"
      ]
     },
     "execution_count": 15,
     "metadata": {},
     "output_type": "execute_result"
    }
   ],
   "source": [
    "10%2 "
   ]
  },
  {
   "cell_type": "code",
   "execution_count": 17,
   "id": "6d6862ac-9f9c-446e-b177-228606fef848",
   "metadata": {},
   "outputs": [
    {
     "data": {
      "text/plain": [
       "10"
      ]
     },
     "execution_count": 17,
     "metadata": {},
     "output_type": "execute_result"
    }
   ],
   "source": [
    "74//7 # combien de fois je peux mettre 7 dans 74"
   ]
  },
  {
   "cell_type": "code",
   "execution_count": 19,
   "id": "6212adc5-8e5a-4557-a441-e34be0e54684",
   "metadata": {},
   "outputs": [
    {
     "data": {
      "text/plain": [
       "7.7"
      ]
     },
     "execution_count": 19,
     "metadata": {},
     "output_type": "execute_result"
    }
   ],
   "source": [
    "3.2+4.5"
   ]
  },
  {
   "cell_type": "code",
   "execution_count": 21,
   "id": "4e323177-a2c2-4bc0-af55-30ec2765e69c",
   "metadata": {},
   "outputs": [
    {
     "data": {
      "text/plain": [
       "'Hello World'"
      ]
     },
     "execution_count": 21,
     "metadata": {},
     "output_type": "execute_result"
    }
   ],
   "source": [
    "\"Hello \" + \"World\" #concanate 2 strings into a single one"
   ]
  },
  {
   "cell_type": "code",
   "execution_count": 24,
   "id": "550fb24c-1260-41dd-8106-4de43eb41b22",
   "metadata": {},
   "outputs": [
    {
     "data": {
      "text/plain": [
       "'I am 25 years old'"
      ]
     },
     "execution_count": 24,
     "metadata": {},
     "output_type": "execute_result"
    }
   ],
   "source": [
    "\"I am \" + str(25) + \" years old\""
   ]
  },
  {
   "cell_type": "code",
   "execution_count": 25,
   "id": "059225eb-01db-446c-8b89-bfe1630dc975",
   "metadata": {},
   "outputs": [
    {
     "data": {
      "text/plain": [
       "86"
      ]
     },
     "execution_count": 25,
     "metadata": {},
     "output_type": "execute_result"
    }
   ],
   "source": [
    "int(\"86\") #convert string in number"
   ]
  },
  {
   "cell_type": "code",
   "execution_count": 26,
   "id": "4acef59b-11a8-48ad-8392-266ececd122a",
   "metadata": {},
   "outputs": [
    {
     "data": {
      "text/plain": [
       "8.8"
      ]
     },
     "execution_count": 26,
     "metadata": {},
     "output_type": "execute_result"
    }
   ],
   "source": [
    "float(\"8.8\")"
   ]
  },
  {
   "cell_type": "markdown",
   "id": "5455851f-48ed-4852-8e7d-72b8031323a3",
   "metadata": {},
   "source": [
    "### Assignment operation"
   ]
  },
  {
   "cell_type": "code",
   "execution_count": 27,
   "id": "690d2b37-8f26-4c9c-a3f4-eae841706923",
   "metadata": {},
   "outputs": [],
   "source": [
    "my_var = 7"
   ]
  },
  {
   "cell_type": "code",
   "execution_count": 28,
   "id": "cff42f0b-ee90-4a69-ab91-ff92761be372",
   "metadata": {},
   "outputs": [],
   "source": [
    "my_var = my_var + 1"
   ]
  },
  {
   "cell_type": "code",
   "execution_count": 29,
   "id": "2fde25e8-db4a-4b0c-b92c-8c78caf0a52e",
   "metadata": {},
   "outputs": [
    {
     "data": {
      "text/plain": [
       "8"
      ]
     },
     "execution_count": 29,
     "metadata": {},
     "output_type": "execute_result"
    }
   ],
   "source": [
    "my_var"
   ]
  },
  {
   "cell_type": "code",
   "execution_count": 31,
   "id": "2cc15c5b-4027-4db4-b7b1-9b2760af257d",
   "metadata": {},
   "outputs": [],
   "source": [
    "my_var += 1 # shorter way to write the same assigment operator"
   ]
  },
  {
   "cell_type": "code",
   "execution_count": 32,
   "id": "12c47bda-9216-4424-85ef-bd707f9496a2",
   "metadata": {},
   "outputs": [
    {
     "data": {
      "text/plain": [
       "10"
      ]
     },
     "execution_count": 32,
     "metadata": {},
     "output_type": "execute_result"
    }
   ],
   "source": [
    "my_var"
   ]
  },
  {
   "cell_type": "code",
   "execution_count": 33,
   "id": "048b3f91-97e9-4370-9b13-7d0fa9db1fab",
   "metadata": {},
   "outputs": [],
   "source": [
    "my_var /=10 #other operators are also possible with this code"
   ]
  },
  {
   "cell_type": "code",
   "execution_count": 34,
   "id": "34d9f7fc-eeae-49b6-892f-60581d9ca38a",
   "metadata": {},
   "outputs": [
    {
     "data": {
      "text/plain": [
       "1.0"
      ]
     },
     "execution_count": 34,
     "metadata": {},
     "output_type": "execute_result"
    }
   ],
   "source": [
    "my_var"
   ]
  },
  {
   "cell_type": "code",
   "execution_count": 35,
   "id": "50f3c3e6-a760-463f-b031-cbc2e38bc4d3",
   "metadata": {},
   "outputs": [],
   "source": [
    "my_var *= 7 "
   ]
  },
  {
   "cell_type": "code",
   "execution_count": 36,
   "id": "524c909a-faa0-4cf8-a7ef-b980d303a245",
   "metadata": {},
   "outputs": [
    {
     "data": {
      "text/plain": [
       "7.0"
      ]
     },
     "execution_count": 36,
     "metadata": {},
     "output_type": "execute_result"
    }
   ],
   "source": [
    "my_var"
   ]
  },
  {
   "cell_type": "code",
   "execution_count": 37,
   "id": "56e388bc-1e8a-4223-a2bd-372d8cab054b",
   "metadata": {},
   "outputs": [],
   "source": [
    "my_var = int(my_var)"
   ]
  },
  {
   "cell_type": "code",
   "execution_count": 38,
   "id": "45cffea8-52ff-4d6b-8aca-b5671744f3ae",
   "metadata": {},
   "outputs": [
    {
     "data": {
      "text/plain": [
       "7"
      ]
     },
     "execution_count": 38,
     "metadata": {},
     "output_type": "execute_result"
    }
   ],
   "source": [
    "my_var"
   ]
  },
  {
   "cell_type": "markdown",
   "id": "56678679-0761-40a4-b00d-d158ea6479a0",
   "metadata": {},
   "source": [
    "# Comparison operator"
   ]
  },
  {
   "cell_type": "code",
   "execution_count": 44,
   "id": "b3725030-3478-43a2-b244-7780fdfbca2a",
   "metadata": {},
   "outputs": [
    {
     "data": {
      "text/plain": [
       "True"
      ]
     },
     "execution_count": 44,
     "metadata": {},
     "output_type": "execute_result"
    }
   ],
   "source": [
    "a = 10\n",
    "b = 12\n",
    "b > a # boolean -> True or False"
   ]
  },
  {
   "cell_type": "code",
   "execution_count": 42,
   "id": "fc2c0e93-8a00-4ced-b6b0-ce3376cb7266",
   "metadata": {},
   "outputs": [
    {
     "data": {
      "text/plain": [
       "False"
      ]
     },
     "execution_count": 42,
     "metadata": {},
     "output_type": "execute_result"
    }
   ],
   "source": [
    "b < a"
   ]
  },
  {
   "cell_type": "code",
   "execution_count": 43,
   "id": "7db5a489-360f-4458-b938-7b5f0cf3b8c5",
   "metadata": {},
   "outputs": [
    {
     "data": {
      "text/plain": [
       "bool"
      ]
     },
     "execution_count": 43,
     "metadata": {},
     "output_type": "execute_result"
    }
   ],
   "source": [
    "type(True)"
   ]
  },
  {
   "cell_type": "code",
   "execution_count": 46,
   "id": "97105a51-4268-41cd-b650-8bd74310812b",
   "metadata": {},
   "outputs": [
    {
     "data": {
      "text/plain": [
       "False"
      ]
     },
     "execution_count": 46,
     "metadata": {},
     "output_type": "execute_result"
    }
   ],
   "source": [
    "a == b # == to compare a and b"
   ]
  },
  {
   "cell_type": "code",
   "execution_count": 48,
   "id": "3a8a8f7c-a617-4e83-a420-f4647485ab76",
   "metadata": {},
   "outputs": [
    {
     "data": {
      "text/plain": [
       "True"
      ]
     },
     "execution_count": 48,
     "metadata": {},
     "output_type": "execute_result"
    }
   ],
   "source": [
    "a != b # a and b are not equal"
   ]
  },
  {
   "cell_type": "code",
   "execution_count": 54,
   "id": "c32bf510-6871-4450-838c-c82c5bbbdd15",
   "metadata": {},
   "outputs": [
    {
     "data": {
      "text/plain": [
       "False"
      ]
     },
     "execution_count": 54,
     "metadata": {},
     "output_type": "execute_result"
    }
   ],
   "source": [
    "'Jordan' > 'Lebron James' # compares the unicode number of the first letter -> each character has a unique number"
   ]
  },
  {
   "cell_type": "code",
   "execution_count": 51,
   "id": "499f6c84-66cb-4918-88ae-16765124ac4a",
   "metadata": {},
   "outputs": [
    {
     "data": {
      "text/plain": [
       "74"
      ]
     },
     "execution_count": 51,
     "metadata": {},
     "output_type": "execute_result"
    }
   ],
   "source": [
    "ord('J')"
   ]
  },
  {
   "cell_type": "code",
   "execution_count": 52,
   "id": "7b7d8b0b-932d-4c9b-849b-0d0bd605d2b4",
   "metadata": {},
   "outputs": [
    {
     "data": {
      "text/plain": [
       "76"
      ]
     },
     "execution_count": 52,
     "metadata": {},
     "output_type": "execute_result"
    }
   ],
   "source": [
    "ord('L')"
   ]
  },
  {
   "cell_type": "markdown",
   "id": "7de2031f-9c7c-4d96-81b8-53d4010e08ff",
   "metadata": {},
   "source": [
    "# Identity operator"
   ]
  },
  {
   "cell_type": "code",
   "execution_count": 58,
   "id": "8d5812cc-0565-4c34-9b7e-1269a3149b7a",
   "metadata": {},
   "outputs": [
    {
     "data": {
      "text/plain": [
       "True"
      ]
     },
     "execution_count": 58,
     "metadata": {},
     "output_type": "execute_result"
    }
   ],
   "source": [
    "a = 4.3\n",
    "b = 4.3\n",
    "\n",
    "a==b"
   ]
  },
  {
   "cell_type": "code",
   "execution_count": 64,
   "id": "df4a5545-ab5f-4b30-9e72-54b4a9dbd758",
   "metadata": {},
   "outputs": [
    {
     "data": {
      "text/plain": [
       "False"
      ]
     },
     "execution_count": 64,
     "metadata": {},
     "output_type": "execute_result"
    }
   ],
   "source": [
    "a is b # identity operator, are the 2 variables the same ?"
   ]
  },
  {
   "cell_type": "code",
   "execution_count": 61,
   "id": "91b3436e-33da-4413-9346-c6915ba9ce9c",
   "metadata": {},
   "outputs": [
    {
     "data": {
      "text/plain": [
       "2592390561648"
      ]
     },
     "execution_count": 61,
     "metadata": {},
     "output_type": "execute_result"
    }
   ],
   "source": [
    "id(a) # location memory of the variable"
   ]
  },
  {
   "cell_type": "code",
   "execution_count": 62,
   "id": "e2b696ab-5560-4bf1-9e49-c45ac59c2472",
   "metadata": {},
   "outputs": [
    {
     "data": {
      "text/plain": [
       "2592390561584"
      ]
     },
     "execution_count": 62,
     "metadata": {},
     "output_type": "execute_result"
    }
   ],
   "source": [
    "id(b) "
   ]
  },
  {
   "cell_type": "markdown",
   "id": "fcb74938-35c7-4b67-8ac4-55c96781fd38",
   "metadata": {},
   "source": [
    "# Logical Operator"
   ]
  },
  {
   "cell_type": "code",
   "execution_count": 66,
   "id": "c55a198a-e0e8-4ccc-9a8d-637344bc6e12",
   "metadata": {},
   "outputs": [
    {
     "data": {
      "text/plain": [
       "True"
      ]
     },
     "execution_count": 66,
     "metadata": {},
     "output_type": "execute_result"
    }
   ],
   "source": [
    "a = 4\n",
    "b = 4\n",
    "c = 7.1\n",
    "d = 8.2\n",
    "\n",
    "a == b and d > c # and to add a second condition"
   ]
  },
  {
   "cell_type": "code",
   "execution_count": 67,
   "id": "d79302cf-c22a-4265-9fec-d514ae97b132",
   "metadata": {},
   "outputs": [
    {
     "data": {
      "text/plain": [
       "True"
      ]
     },
     "execution_count": 67,
     "metadata": {},
     "output_type": "execute_result"
    }
   ],
   "source": [
    "True and True"
   ]
  },
  {
   "cell_type": "code",
   "execution_count": 68,
   "id": "5a4b3aab-d90c-417b-bca4-de1b4c8f6b18",
   "metadata": {},
   "outputs": [
    {
     "data": {
      "text/plain": [
       "False"
      ]
     },
     "execution_count": 68,
     "metadata": {},
     "output_type": "execute_result"
    }
   ],
   "source": [
    "True and False"
   ]
  },
  {
   "cell_type": "code",
   "execution_count": 69,
   "id": "e355c59d-37f4-4a4b-9d09-1a2b647bf07c",
   "metadata": {},
   "outputs": [
    {
     "data": {
      "text/plain": [
       "False"
      ]
     },
     "execution_count": 69,
     "metadata": {},
     "output_type": "execute_result"
    }
   ],
   "source": [
    "False and False"
   ]
  },
  {
   "cell_type": "code",
   "execution_count": 70,
   "id": "d39412fd-7fe4-4af7-a6e3-a3005ff8a7b2",
   "metadata": {},
   "outputs": [
    {
     "data": {
      "text/plain": [
       "True"
      ]
     },
     "execution_count": 70,
     "metadata": {},
     "output_type": "execute_result"
    }
   ],
   "source": [
    "True and not False"
   ]
  },
  {
   "cell_type": "code",
   "execution_count": 71,
   "id": "a53214c0-f473-43eb-91d9-1c436d5f6e37",
   "metadata": {},
   "outputs": [
    {
     "data": {
      "text/plain": [
       "True"
      ]
     },
     "execution_count": 71,
     "metadata": {},
     "output_type": "execute_result"
    }
   ],
   "source": [
    "not False"
   ]
  },
  {
   "cell_type": "code",
   "execution_count": 72,
   "id": "243c815c-2b11-486b-8b0b-4d568c61601b",
   "metadata": {},
   "outputs": [
    {
     "data": {
      "text/plain": [
       "True"
      ]
     },
     "execution_count": 72,
     "metadata": {},
     "output_type": "execute_result"
    }
   ],
   "source": [
    "True or False"
   ]
  },
  {
   "cell_type": "code",
   "execution_count": 73,
   "id": "2e13d7a6-fb91-4c70-88ad-bd5d4a93feea",
   "metadata": {},
   "outputs": [
    {
     "data": {
      "text/plain": [
       "True"
      ]
     },
     "execution_count": 73,
     "metadata": {},
     "output_type": "execute_result"
    }
   ],
   "source": [
    "a = 4\n",
    "b = 4\n",
    "c = 7.1\n",
    "d = 8.2\n",
    "\n",
    "a == b or d < c"
   ]
  },
  {
   "cell_type": "code",
   "execution_count": 74,
   "id": "47e91f19-2c80-4086-9b8b-cf886601cb70",
   "metadata": {},
   "outputs": [
    {
     "data": {
      "text/plain": [
       "False"
      ]
     },
     "execution_count": 74,
     "metadata": {},
     "output_type": "execute_result"
    }
   ],
   "source": [
    "a = 4\n",
    "b = 4\n",
    "c = 7.1\n",
    "d = 8.2\n",
    "\n",
    "a == b and d < c"
   ]
  },
  {
   "cell_type": "markdown",
   "id": "5a253361-f17e-4189-bc77-6b2b53b37eb7",
   "metadata": {},
   "source": [
    "# Conditionals - If statements"
   ]
  },
  {
   "cell_type": "code",
   "execution_count": 81,
   "id": "156d6c4a-a1ae-43f5-9b8c-becf118bdedf",
   "metadata": {},
   "outputs": [
    {
     "name": "stdout",
     "output_type": "stream",
     "text": [
      "The individual cooperates!\n"
     ]
    }
   ],
   "source": [
    "cost = 1            # individual cost \n",
    "benefit = 3         # social benefit\n",
    "kappa = 0.5         # degree of morality\n",
    "\n",
    "# condition for cooperation: \n",
    "# social benefit times kappa is greater than individual cost times (1-kappa)\n",
    "\n",
    "if benefit*kappa >= cost*(1-kappa): #(1-kappa) = degree of selfishness\n",
    "    print('The individual cooperates!')"
   ]
  },
  {
   "cell_type": "code",
   "execution_count": 82,
   "id": "2d2120e1-49d1-4db6-a199-fa90fcbc563f",
   "metadata": {},
   "outputs": [],
   "source": [
    "kappa = 0 # homoeconomicus\n",
    "\n",
    "if benefit*kappa >= cost*(1-kappa): #(1-kappa) = degree of selfishness\n",
    "    print('The individual cooperates!') \n",
    "    # nothing is printed when the condition is not true --> add \"else\""
   ]
  },
  {
   "cell_type": "code",
   "execution_count": 84,
   "id": "b824cbe2-a036-4ca8-9b61-d3cb13ad65b0",
   "metadata": {},
   "outputs": [
    {
     "name": "stdout",
     "output_type": "stream",
     "text": [
      "Edouardo is not cooperating. Booo\n"
     ]
    }
   ],
   "source": [
    "if benefit*kappa >= cost*(1-kappa): #(1-kappa) = degree of selfishness\n",
    "    print('The individual cooperates!')\n",
    "else:\n",
    "    print(\"Edouardo is not cooperating. Booo\")"
   ]
  },
  {
   "cell_type": "code",
   "execution_count": 92,
   "id": "eb25b5a7-12c6-45d5-83e5-c2479ce1661e",
   "metadata": {},
   "outputs": [
    {
     "name": "stdout",
     "output_type": "stream",
     "text": [
      "Only Edouardo or Quentin cooperate\n"
     ]
    }
   ],
   "source": [
    "kappa_1 = 0.2\n",
    "kappa_2 = 0.3\n",
    "if benefit*kappa_1 >= cost*(1-kappa_1) and benefit*kappa_2 >= cost*(1-kappa_2): \n",
    "    print('Edouardo and Quentin cooperate')\n",
    "elif benefit*kappa_1 < cost*(1-kappa_1) and benefit*kappa_2 < cost*(1-kappa_2): \n",
    "    print('Nobody or Quentin cooperates')\n",
    "else:\n",
    "    print('Only Edouardo or Quentin cooperate')"
   ]
  },
  {
   "cell_type": "markdown",
   "id": "fe39484b-aa01-4e29-afc0-0eea59fe3bc2",
   "metadata": {},
   "source": [
    "# Collection of elements"
   ]
  },
  {
   "cell_type": "markdown",
   "id": "9ff15b9f-a575-458e-a2c5-0f638999f359",
   "metadata": {},
   "source": [
    "### List"
   ]
  },
  {
   "cell_type": "code",
   "execution_count": 96,
   "id": "cbe4a08e-c6ef-4c18-a3db-d2540aa2e01a",
   "metadata": {},
   "outputs": [
    {
     "data": {
      "text/plain": [
       "[2, 3.5, 'cat']"
      ]
     },
     "execution_count": 96,
     "metadata": {},
     "output_type": "execute_result"
    }
   ],
   "source": [
    "my_list = [2,3.5, 'cat']\n",
    "my_list"
   ]
  },
  {
   "cell_type": "code",
   "execution_count": 99,
   "id": "71c82a00-6aa9-448f-88f8-cb3af0a2a740",
   "metadata": {},
   "outputs": [
    {
     "data": {
      "text/plain": [
       "[2, 3.5, 'cat', 'dog', 6.2]"
      ]
     },
     "execution_count": 99,
     "metadata": {},
     "output_type": "execute_result"
    }
   ],
   "source": [
    "my_list_2 = ['dog', 6.2]\n",
    "my_list + my_list_2"
   ]
  },
  {
   "cell_type": "code",
   "execution_count": 101,
   "id": "fa858148-0790-46f4-b358-660fd730e545",
   "metadata": {},
   "outputs": [
    {
     "data": {
      "text/plain": [
       "[2, 3.5, 'cat', 2, 3.5, 'cat', 2, 3.5, 'cat', 2, 3.5, 'cat']"
      ]
     },
     "execution_count": 101,
     "metadata": {},
     "output_type": "execute_result"
    }
   ],
   "source": [
    "my_list * 4 # add the elements in the list 4 times"
   ]
  },
  {
   "cell_type": "markdown",
   "id": "be4f38af-ecf8-4b51-b451-372af7aa75f2",
   "metadata": {},
   "source": [
    "### Tuples"
   ]
  },
  {
   "cell_type": "code",
   "execution_count": 104,
   "id": "42799549-c589-46c8-875e-1a5b7b86610b",
   "metadata": {},
   "outputs": [
    {
     "data": {
      "text/plain": [
       "(4, 8.9, 'bird')"
      ]
     },
     "execution_count": 104,
     "metadata": {},
     "output_type": "execute_result"
    }
   ],
   "source": [
    "my_tuple = (4,8.9, 'bird')\n",
    "my_tuple"
   ]
  },
  {
   "cell_type": "code",
   "execution_count": 106,
   "id": "f2792fea-874e-4a45-abf6-230888124464",
   "metadata": {},
   "outputs": [
    {
     "data": {
      "text/plain": [
       "(4, 8.9, 'bird', 3, 'insect')"
      ]
     },
     "execution_count": 106,
     "metadata": {},
     "output_type": "execute_result"
    }
   ],
   "source": [
    "my_tuple_2 = (3, 'insect')\n",
    "my_tuple + my_tuple_2"
   ]
  },
  {
   "cell_type": "markdown",
   "id": "dd0ce658-dc18-49ba-94cf-90e2cb2fa4fb",
   "metadata": {},
   "source": [
    "### Conversion"
   ]
  },
  {
   "cell_type": "code",
   "execution_count": 109,
   "id": "436ca023-50bd-48d3-99d6-d92431cfc45e",
   "metadata": {},
   "outputs": [
    {
     "data": {
      "text/plain": [
       "(2, 3.5, 'cat')"
      ]
     },
     "execution_count": 109,
     "metadata": {},
     "output_type": "execute_result"
    }
   ],
   "source": [
    "my_list = [2, 3.5, 'cat']\n",
    "tuple(my_list) #  converts a list in tuple"
   ]
  },
  {
   "cell_type": "code",
   "execution_count": 111,
   "id": "587d07b6-6d94-4ad4-905b-5a153582c984",
   "metadata": {},
   "outputs": [
    {
     "data": {
      "text/plain": [
       "[4, 8.9, 'bird']"
      ]
     },
     "execution_count": 111,
     "metadata": {},
     "output_type": "execute_result"
    }
   ],
   "source": [
    "my_tuple = (4,8.9, 'bird')\n",
    "list(my_tuple)"
   ]
  },
  {
   "cell_type": "markdown",
   "id": "739734a3-8fb7-4da5-9692-27bfab980a18",
   "metadata": {},
   "source": [
    "### Indexing"
   ]
  },
  {
   "cell_type": "code",
   "execution_count": 114,
   "id": "328ab5b6-4da4-4d29-93d5-b3d0cd40a02c",
   "metadata": {},
   "outputs": [
    {
     "data": {
      "text/plain": [
       "3.5"
      ]
     },
     "execution_count": 114,
     "metadata": {},
     "output_type": "execute_result"
    }
   ],
   "source": [
    "my_list = [2, 3.5, 'cat']\n",
    "my_list[1] # starts counting from 0 for the position of an element"
   ]
  },
  {
   "cell_type": "code",
   "execution_count": 117,
   "id": "bfe1454f-0b81-4721-8058-2c90d927eca3",
   "metadata": {},
   "outputs": [
    {
     "ename": "IndexError",
     "evalue": "list index out of range",
     "output_type": "error",
     "traceback": [
      "\u001b[1;31m---------------------------------------------------------------------------\u001b[0m",
      "\u001b[1;31mIndexError\u001b[0m                                Traceback (most recent call last)",
      "Input \u001b[1;32mIn [117]\u001b[0m, in \u001b[0;36m<cell line: 1>\u001b[1;34m()\u001b[0m\n\u001b[1;32m----> 1\u001b[0m \u001b[43mmy_list\u001b[49m\u001b[43m[\u001b[49m\u001b[38;5;241;43m3\u001b[39;49m\u001b[43m]\u001b[49m\n",
      "\u001b[1;31mIndexError\u001b[0m: list index out of range"
     ]
    }
   ],
   "source": [
    "my_list[3] # no index 3 --> return false"
   ]
  },
  {
   "cell_type": "code",
   "execution_count": 120,
   "id": "99696de1-4c95-4484-b454-9da132217432",
   "metadata": {},
   "outputs": [
    {
     "data": {
      "text/plain": [
       "[0, 1, 2, 3, 4]"
      ]
     },
     "execution_count": 120,
     "metadata": {},
     "output_type": "execute_result"
    }
   ],
   "source": [
    "my_list = [0,1,2,3,4,5,6,7,8,9,10]\n",
    "my_list[0:5] # first element taken until n-1 element"
   ]
  },
  {
   "cell_type": "code",
   "execution_count": 121,
   "id": "a0ee2bd6-5cc0-4dd1-8637-773a02a65df9",
   "metadata": {},
   "outputs": [
    {
     "data": {
      "text/plain": [
       "[6, 7, 8, 9, 10]"
      ]
     },
     "execution_count": 121,
     "metadata": {},
     "output_type": "execute_result"
    }
   ],
   "source": [
    "my_list[6:11]"
   ]
  },
  {
   "cell_type": "code",
   "execution_count": 128,
   "id": "7f67812b-b2a9-4f4a-a67b-2cabed3bae3b",
   "metadata": {},
   "outputs": [
    {
     "data": {
      "text/plain": [
       "10"
      ]
     },
     "execution_count": 128,
     "metadata": {},
     "output_type": "execute_result"
    }
   ],
   "source": [
    "my_list[-1] # takes the last element"
   ]
  },
  {
   "cell_type": "code",
   "execution_count": 129,
   "id": "2e31e374-749f-4c24-9eb9-504da87f93ea",
   "metadata": {},
   "outputs": [
    {
     "data": {
      "text/plain": [
       "[6, 7, 8, 9]"
      ]
     },
     "execution_count": 129,
     "metadata": {},
     "output_type": "execute_result"
    }
   ],
   "source": [
    "my_list[6:-1] # but doesn't work when we do slicing"
   ]
  },
  {
   "cell_type": "code",
   "execution_count": 131,
   "id": "df4d7a68-3b54-4601-8e95-f177c6bb019c",
   "metadata": {},
   "outputs": [],
   "source": [
    "my_tuple = (0,1,2,3,4,5,6,7,8,9,10)"
   ]
  },
  {
   "cell_type": "code",
   "execution_count": 135,
   "id": "0ae175c0-385c-4f7a-9b76-655840d35c3d",
   "metadata": {},
   "outputs": [
    {
     "data": {
      "text/plain": [
       "(3, 4, 5, 6)"
      ]
     },
     "execution_count": 135,
     "metadata": {},
     "output_type": "execute_result"
    }
   ],
   "source": [
    "my_tuple[3:7]"
   ]
  },
  {
   "cell_type": "code",
   "execution_count": 136,
   "id": "eb3b8b65-1225-47eb-9fdf-5074419c3262",
   "metadata": {},
   "outputs": [
    {
     "data": {
      "text/plain": [
       "(0, 2, 4, 6, 8, 10)"
      ]
     },
     "execution_count": 136,
     "metadata": {},
     "output_type": "execute_result"
    }
   ],
   "source": [
    "my_tuple[::2] # [start:end:stride]"
   ]
  },
  {
   "cell_type": "code",
   "execution_count": 138,
   "id": "e63db301-b859-40d7-82c3-e39e056baa94",
   "metadata": {},
   "outputs": [
    {
     "data": {
      "text/plain": [
       "(1, 4, 7, 10)"
      ]
     },
     "execution_count": 138,
     "metadata": {},
     "output_type": "execute_result"
    }
   ],
   "source": [
    "my_tuple[1::3]"
   ]
  },
  {
   "cell_type": "markdown",
   "id": "64212a5d-c054-4014-b78d-eb69f7b544f9",
   "metadata": {},
   "source": [
    "### Mutability"
   ]
  },
  {
   "cell_type": "code",
   "execution_count": 142,
   "id": "b9153740-188a-4a41-b5fb-056870434329",
   "metadata": {},
   "outputs": [
    {
     "data": {
      "text/plain": [
       "[0, 'one', 2, 3, 4]"
      ]
     },
     "execution_count": 142,
     "metadata": {},
     "output_type": "execute_result"
    }
   ],
   "source": [
    "my_list = [0,1,2,3,4]\n",
    "my_tuple = (0,1,2,3,4)\n",
    "\n",
    "my_list[1] = 'one' # a list is mutable\n",
    "my_list"
   ]
  },
  {
   "cell_type": "code",
   "execution_count": 144,
   "id": "cd0e8442-8eb8-420d-8f3c-797a402f3bc9",
   "metadata": {},
   "outputs": [
    {
     "ename": "TypeError",
     "evalue": "'tuple' object does not support item assignment",
     "output_type": "error",
     "traceback": [
      "\u001b[1;31m---------------------------------------------------------------------------\u001b[0m",
      "\u001b[1;31mTypeError\u001b[0m                                 Traceback (most recent call last)",
      "Input \u001b[1;32mIn [144]\u001b[0m, in \u001b[0;36m<cell line: 1>\u001b[1;34m()\u001b[0m\n\u001b[1;32m----> 1\u001b[0m my_tuple[\u001b[38;5;241m1\u001b[39m] \u001b[38;5;241m=\u001b[39m \u001b[38;5;124m'\u001b[39m\u001b[38;5;124mone\u001b[39m\u001b[38;5;124m'\u001b[39m\n",
      "\u001b[1;31mTypeError\u001b[0m: 'tuple' object does not support item assignment"
     ]
    }
   ],
   "source": [
    "my_tuple[1] = 'one' # we can not change an element in a tuple -> tuple is not mutable"
   ]
  },
  {
   "cell_type": "code",
   "execution_count": 146,
   "id": "3b3bc82f-9359-468e-a49a-c36af87b6f82",
   "metadata": {},
   "outputs": [
    {
     "data": {
      "text/plain": [
       "3.9"
      ]
     },
     "execution_count": 146,
     "metadata": {},
     "output_type": "execute_result"
    }
   ],
   "source": [
    "a = 3.9\n",
    "a"
   ]
  },
  {
   "cell_type": "code",
   "execution_count": 147,
   "id": "e0860f12-be2f-4467-a374-0366b5785c6c",
   "metadata": {},
   "outputs": [
    {
     "data": {
      "text/plain": [
       "8"
      ]
     },
     "execution_count": 147,
     "metadata": {},
     "output_type": "execute_result"
    }
   ],
   "source": [
    "a = 8\n",
    "a"
   ]
  },
  {
   "cell_type": "code",
   "execution_count": 149,
   "id": "892b12c9-e09d-4149-89ad-7484a337f5dd",
   "metadata": {},
   "outputs": [
    {
     "data": {
      "text/plain": [
       "2592390833872"
      ]
     },
     "execution_count": 149,
     "metadata": {},
     "output_type": "execute_result"
    }
   ],
   "source": [
    "id(a)"
   ]
  },
  {
   "cell_type": "code",
   "execution_count": 150,
   "id": "3c1d7942-b184-4193-981f-ce7f75839f64",
   "metadata": {},
   "outputs": [],
   "source": [
    "a = 9.3"
   ]
  },
  {
   "cell_type": "code",
   "execution_count": 152,
   "id": "6fd59f54-7e99-45f4-ad33-97c190b5099b",
   "metadata": {},
   "outputs": [
    {
     "data": {
      "text/plain": [
       "2592390833392"
      ]
     },
     "execution_count": 152,
     "metadata": {},
     "output_type": "execute_result"
    }
   ],
   "source": [
    "id(a) # different space, old a is replaced by a new variable"
   ]
  },
  {
   "cell_type": "code",
   "execution_count": 154,
   "id": "8544e56d-15d5-400f-a74f-93e056f9b5c8",
   "metadata": {},
   "outputs": [
    {
     "data": {
      "text/plain": [
       "2592391161152"
      ]
     },
     "execution_count": 154,
     "metadata": {},
     "output_type": "execute_result"
    }
   ],
   "source": [
    "my_list = [0,1,2,3,4]\n",
    "id(my_list)"
   ]
  },
  {
   "cell_type": "code",
   "execution_count": 157,
   "id": "5b35f6bc-9943-4737-83cb-b6342b18ab1e",
   "metadata": {},
   "outputs": [
    {
     "data": {
      "text/plain": [
       "2592391161152"
      ]
     },
     "execution_count": 157,
     "metadata": {},
     "output_type": "execute_result"
    }
   ],
   "source": [
    "my_list[2] = 'two'\n",
    "id(my_list) # same variable, same storage"
   ]
  },
  {
   "cell_type": "code",
   "execution_count": 163,
   "id": "85e28967-4558-429e-a1ab-b2a3437f3a0f",
   "metadata": {},
   "outputs": [
    {
     "data": {
      "text/plain": [
       "(0, 1, 2, 'three', 4)"
      ]
     },
     "execution_count": 163,
     "metadata": {},
     "output_type": "execute_result"
    }
   ],
   "source": [
    "my_tuple = (0,1,2,3,4)\n",
    "\n",
    "my_list = list(my_tuple)\n",
    "my_list[3] = 'three'\n",
    "my_tuple = tuple(my_list)\n",
    "my_tuple"
   ]
  },
  {
   "cell_type": "markdown",
   "id": "4f894d42-b990-41a8-af13-d693f9fff969",
   "metadata": {},
   "source": [
    "### Methods"
   ]
  },
  {
   "cell_type": "code",
   "execution_count": 169,
   "id": "d3171664-2a8e-4491-9751-e25e930a2fa5",
   "metadata": {},
   "outputs": [
    {
     "name": "stdout",
     "output_type": "stream",
     "text": [
      "[0, 1, 2, 3, 4, 5]\n"
     ]
    }
   ],
   "source": [
    "my_list = [0,1,2,3,4,5]\n",
    "my_list_copied = my_list # two lists will be registered in the same location --> if i change one, the other will change as well\n",
    "print(my_list_copied)"
   ]
  },
  {
   "cell_type": "code",
   "execution_count": 168,
   "id": "5ef94169-4f4c-4dfe-a7d0-9fc0ab9b656f",
   "metadata": {},
   "outputs": [
    {
     "name": "stdout",
     "output_type": "stream",
     "text": [
      "[0, 1, 'two', 3, 4, 5]\n"
     ]
    }
   ],
   "source": [
    "my_list_copied[2] = \"two\"\n",
    "print(my_list_copied)"
   ]
  },
  {
   "cell_type": "code",
   "execution_count": 172,
   "id": "10e38270-b21d-47ee-84a3-0eda26efc137",
   "metadata": {},
   "outputs": [],
   "source": [
    "my_list = [0,1,2,3,4,5]\n",
    "my_list_copy = my_list.copy() # apply a method/function to an argument --> my_list_copy = copy(my_list) doesn't work"
   ]
  },
  {
   "cell_type": "code",
   "execution_count": 171,
   "id": "7b92dd99-5e69-4a7e-8de4-416cc084e953",
   "metadata": {},
   "outputs": [
    {
     "name": "stdout",
     "output_type": "stream",
     "text": [
      "[0, 1, 2, 3, 4, 5]\n"
     ]
    }
   ],
   "source": [
    "print(my_list_copy)"
   ]
  },
  {
   "cell_type": "code",
   "execution_count": 173,
   "id": "7b040490-297f-43a1-b56b-185cd564d6d9",
   "metadata": {},
   "outputs": [
    {
     "name": "stdout",
     "output_type": "stream",
     "text": [
      "[0, 'one', 2, 3, 4, 5]\n",
      "[0, 1, 2, 3, 4, 5]\n"
     ]
    }
   ],
   "source": [
    "my_list_copy[1] = 'one'\n",
    "print(my_list_copy)\n",
    "print(my_list)"
   ]
  },
  {
   "cell_type": "markdown",
   "id": "cf87b3a1-294b-4bdd-b6fc-19151cf880b2",
   "metadata": {},
   "source": [
    "Let's try the function / method `append()`"
   ]
  },
  {
   "cell_type": "code",
   "execution_count": 174,
   "id": "2b53a6f6-9419-4538-8194-f310978c3ed2",
   "metadata": {},
   "outputs": [],
   "source": [
    "my_list = [0,1,2,3,4,5]\n",
    "my_list.append(5)"
   ]
  },
  {
   "cell_type": "code",
   "execution_count": 175,
   "id": "5485ba20-7d4d-4465-acc0-013eb559d319",
   "metadata": {},
   "outputs": [
    {
     "data": {
      "text/plain": [
       "[0, 1, 2, 3, 4, 5, 5]"
      ]
     },
     "execution_count": 175,
     "metadata": {},
     "output_type": "execute_result"
    }
   ],
   "source": [
    "my_list"
   ]
  },
  {
   "cell_type": "code",
   "execution_count": 179,
   "id": "778213af-ca00-4650-8464-72b856860528",
   "metadata": {},
   "outputs": [
    {
     "data": {
      "text/plain": [
       "[]"
      ]
     },
     "execution_count": 179,
     "metadata": {},
     "output_type": "execute_result"
    }
   ],
   "source": [
    "my_list.clear() # empty the list\n",
    "my_list"
   ]
  },
  {
   "cell_type": "code",
   "execution_count": 188,
   "id": "0410589c-bff8-4d8b-a960-65653a02eef7",
   "metadata": {},
   "outputs": [],
   "source": [
    "my_list = [0,1,2,3, 3, 4,5,6]\n",
    "my_list.remove(3) # remove the specified value from the list --> takes just the first found value"
   ]
  },
  {
   "cell_type": "code",
   "execution_count": 189,
   "id": "f152ed2f-90ab-4bb2-9259-b382a55ef214",
   "metadata": {},
   "outputs": [
    {
     "data": {
      "text/plain": [
       "[0, 1, 2, 3, 4, 5, 6]"
      ]
     },
     "execution_count": 189,
     "metadata": {},
     "output_type": "execute_result"
    }
   ],
   "source": [
    "my_list"
   ]
  },
  {
   "cell_type": "code",
   "execution_count": 190,
   "id": "d156273c-3c85-4ebf-9b41-9a3d1ee2e453",
   "metadata": {},
   "outputs": [
    {
     "data": {
      "text/plain": [
       "[0, 4, 7, 4, 3]"
      ]
     },
     "execution_count": 190,
     "metadata": {},
     "output_type": "execute_result"
    }
   ],
   "source": [
    "my_list = [0,4,7,6,4,3]\n",
    "my_list.pop(3) # removes the 3rd index/position\n",
    "my_list"
   ]
  },
  {
   "cell_type": "code",
   "execution_count": null,
   "id": "8567eb72-51bf-4b0b-ab6d-1d4d5d276f43",
   "metadata": {},
   "outputs": [],
   "source": []
  }
 ],
 "metadata": {
  "kernelspec": {
   "display_name": "Python 3 (ipykernel)",
   "language": "python",
   "name": "python3"
  },
  "language_info": {
   "codemirror_mode": {
    "name": "ipython",
    "version": 3
   },
   "file_extension": ".py",
   "mimetype": "text/x-python",
   "name": "python",
   "nbconvert_exporter": "python",
   "pygments_lexer": "ipython3",
   "version": "3.9.13"
  }
 },
 "nbformat": 4,
 "nbformat_minor": 5
}
