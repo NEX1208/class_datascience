{
 "cells": [
  {
   "cell_type": "code",
   "execution_count": 3,
   "id": "365797e0-f9da-4454-ad20-9fe057639f06",
   "metadata": {},
   "outputs": [
    {
     "name": "stdout",
     "output_type": "stream",
     "text": [
      "hello, world.\n"
     ]
    }
   ],
   "source": [
    "# Say hello to the world.\n",
    "print('hello, world.')"
   ]
  },
  {
   "cell_type": "code",
   "execution_count": 4,
   "id": "2372e4d9-1b23-4160-b721-41bf83ee06cb",
   "metadata": {},
   "outputs": [
    {
     "data": {
      "text/plain": [
       "11"
      ]
     },
     "execution_count": 4,
     "metadata": {},
     "output_type": "execute_result"
    }
   ],
   "source": [
    "# Would show 9 if this were the last line, but it is not, so shows nothing\n",
    "4 + 5\n",
    "\n",
    "# I hope we see 11.\n",
    "5 + 6"
   ]
  },
  {
   "cell_type": "code",
   "execution_count": 5,
   "id": "80f8b175-f8ee-4f82-a4df-570b9f89d43f",
   "metadata": {},
   "outputs": [],
   "source": [
    "# Variable assignment, so no visible output.\n",
    "a = 5 + 6"
   ]
  },
  {
   "cell_type": "code",
   "execution_count": 6,
   "id": "61861d69-fbc0-4445-8f12-f113c4100dbe",
   "metadata": {},
   "outputs": [
    {
     "data": {
      "text/plain": [
       "11"
      ]
     },
     "execution_count": 6,
     "metadata": {},
     "output_type": "execute_result"
    }
   ],
   "source": [
    "# However, now if we ask for a, its value will be displayed\n",
    "a"
   ]
  },
  {
   "cell_type": "code",
   "execution_count": null,
   "id": "97038f22-a744-4db7-b135-9e945161464e",
   "metadata": {},
   "outputs": [],
   "source": []
  }
 ],
 "metadata": {
  "kernelspec": {
   "display_name": "Python 3 (ipykernel)",
   "language": "python",
   "name": "python3"
  },
  "language_info": {
   "codemirror_mode": {
    "name": "ipython",
    "version": 3
   },
   "file_extension": ".py",
   "mimetype": "text/x-python",
   "name": "python",
   "nbconvert_exporter": "python",
   "pygments_lexer": "ipython3",
   "version": "3.9.13"
  }
 },
 "nbformat": 4,
 "nbformat_minor": 5
}
